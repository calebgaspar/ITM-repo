{
 "cells": [
  {
   "cell_type": "markdown",
   "metadata": {},
   "source": [
    "**Student Id** - 172794 <br>\n",
    "**Surname** - Gaspar <br>\n",
    "**Year and Course** - 4 BS ME <br>"
   ]
  },
  {
   "cell_type": "code",
   "execution_count": 9,
   "metadata": {},
   "outputs": [
    {
     "name": "stdout",
     "output_type": "stream",
     "text": [
      "Enter Amount in US Dollars:1\n",
      "US Dollars = 50\n"
     ]
    }
   ],
   "source": [
    "def dollars_to_pesos():\n",
    "    Enter_amount = int(input(\"Enter Amount in US Dollars:\"))\n",
    "    return print (\"US Dollars =\", (Enter_amount*50))\n",
    "    \n",
    "dollars_to_pesos()"
   ]
  },
  {
   "cell_type": "code",
   "execution_count": 13,
   "metadata": {},
   "outputs": [
    {
     "name": "stdout",
     "output_type": "stream",
     "text": [
      "enter first number 55\n",
      "enter second number 3\n",
      "58 52 165 18 1\n"
     ]
    }
   ],
   "source": [
    "def Integers():\n",
    "    first_number = int(input(\"enter first number \"))\n",
    "    second_number = int(input(\"enter second number \"))\n",
    "    return print ((first_number+second_number), (first_number-second_number), (first_number*second_number), (first_number//second_number), (first_number%second_number))\n",
    "\n",
    "Integers()"
   ]
  },
  {
   "cell_type": "code",
   "execution_count": 14,
   "metadata": {},
   "outputs": [
    {
     "name": "stdout",
     "output_type": "stream",
     "text": [
      "Enter Kg 67\n",
      "Enter cm 180\n",
      "BMI 20.679012345679013\n"
     ]
    }
   ],
   "source": [
    "def convert_cm_to_m(Enter_cm):\n",
    "    return Enter_cm/100\n",
    "\n",
    "def compute_bmi():\n",
    "    Enter_kg = int(input(\"Enter Kg \"))\n",
    "    Enter_cm = int(input(\"Enter cm \"))\n",
    "    m = convert_cm_to_m(Enter_cm)\n",
    "    return print (\"BMI\", Enter_kg/(m**2))\n",
    "\n",
    "compute_bmi()"
   ]
  },
  {
   "cell_type": "code",
   "execution_count": null,
   "metadata": {},
   "outputs": [],
   "source": []
  }
 ],
 "metadata": {
  "kernelspec": {
   "display_name": "Python 3",
   "language": "python",
   "name": "python3"
  },
  "language_info": {
   "codemirror_mode": {
    "name": "ipython",
    "version": 3
   },
   "file_extension": ".py",
   "mimetype": "text/x-python",
   "name": "python",
   "nbconvert_exporter": "python",
   "pygments_lexer": "ipython3",
   "version": "3.8.5"
  }
 },
 "nbformat": 4,
 "nbformat_minor": 4
}
