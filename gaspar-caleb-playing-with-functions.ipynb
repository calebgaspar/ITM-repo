{
 "cells": [
  {
   "cell_type": "code",
   "execution_count": 2,
   "metadata": {},
   "outputs": [
    {
     "name": "stdout",
     "output_type": "stream",
     "text": [
      "circumference: 123\n"
     ]
    },
    {
     "data": {
      "text/plain": [
       "1203.9247517188692"
      ]
     },
     "execution_count": 2,
     "metadata": {},
     "output_type": "execute_result"
    }
   ],
   "source": [
    "def get_area():\n",
    "    b = int(input(\"circumference: \"))\n",
    "    r = (b/(2*3.1416))\n",
    "    return  3.1416*r**2\n",
    "\n",
    "get_area()"
   ]
  },
  {
   "cell_type": "code",
   "execution_count": 3,
   "metadata": {},
   "outputs": [
    {
     "name": "stdout",
     "output_type": "stream",
     "text": [
      "Enter whatever word you want: hello\n",
      "olleh\n"
     ]
    }
   ],
   "source": [
    "def reverse_string(a):\n",
    "    return a[::-1]\n",
    "\n",
    "x = input(\"Enter whatever word you want: \")\n",
    "print(reverse_string(x))"
   ]
  },
  {
   "cell_type": "code",
   "execution_count": null,
   "metadata": {},
   "outputs": [],
   "source": [
    "def back_addition(data):\n",
    "    begin = 0\n",
    "    for index in range(data):\n",
    "        begin += data - index\n",
    "    return begin\n",
    "\n",
    "value = int(input(\"Enter integer: \"))\n",
    "back_addition(value)"
   ]
  },
  {
   "cell_type": "code",
   "execution_count": 1,
   "metadata": {},
   "outputs": [
    {
     "name": "stdout",
     "output_type": "stream",
     "text": [
      "25164150.0\n"
     ]
    }
   ],
   "source": [
    "def diff(x):\n",
    "    sum_1 = x * (x+1) / 2;\n",
    "    sum_2 = x * (x+1) * (2*x + 1) / 6;\n",
    "    return x * (x+1) / 2 * x * (x+1) / 2 - x * (x+1) * (2*x + 1) / 6;\n",
    "\n",
    "print(diff(100))"
   ]
  },
  {
   "cell_type": "code",
   "execution_count": null,
   "metadata": {},
   "outputs": [],
   "source": [
    "def get_change(x):\n",
    "    a = 0\n",
    "    b = 0\n",
    "    c = 0\n",
    "    d = 0\n",
    "    e = 0\n",
    "    while x > 0:\n",
    "        if x >= 100:\n",
    "            x -= 100\n",
    "            a += 1\n",
    "        elif x >= 25:\n",
    "            x -= 25\n",
    "            b += 1\n",
    "        elif x >= 10:\n",
    "            x -= 10\n",
    "            c += 1\n",
    "        elif x >= 5:\n",
    "            x -= 5\n",
    "            d += 1\n",
    "        elif x >= 1:\n",
    "            x -= 1\n",
    "            e += 1\n",
    "        else: \n",
    "            break\n",
    "    return a,b,c,d,e\n",
    "            \n",
    "x = int(input(\"Enter total: \"))"
   ]
  }
 ],
 "metadata": {
  "kernelspec": {
   "display_name": "Python 3",
   "language": "python",
   "name": "python3"
  },
  "language_info": {
   "codemirror_mode": {
    "name": "ipython",
    "version": 3
   },
   "file_extension": ".py",
   "mimetype": "text/x-python",
   "name": "python",
   "nbconvert_exporter": "python",
   "pygments_lexer": "ipython3",
   "version": "3.8.5"
  }
 },
 "nbformat": 4,
 "nbformat_minor": 4
}
