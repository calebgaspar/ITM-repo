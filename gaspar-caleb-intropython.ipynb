{
 "cells": [
  {
   "cell_type": "markdown",
   "metadata": {},
   "source": [
    "**Student ID** - 172794 <br>\n",
    "**Surname** - Gaspar <br>\n",
    "**Year and Course** - 4 BS ME <br>"
   ]
  },
  {
   "cell_type": "code",
   "execution_count": 4,
   "metadata": {},
   "outputs": [
    {
     "name": "stdout",
     "output_type": "stream",
     "text": [
      "Enter 1st number:5\n",
      "Enter 2nd number:10\n",
      "Enter 3rd number:15\n",
      "the average =  10.0\n"
     ]
    }
   ],
   "source": [
    "def function_name():\n",
    "    first_number = int(input(\"Enter 1st number:\"))\n",
    "    second_number = int(input(\"Enter 2nd number:\")) \n",
    "    third_number = int(input (\"Enter 3rd number:\"))\n",
    "    return print(\"the average = \", (first_number+second_number+third_number)/3)\n",
    "                       \n",
    "function_name()"
   ]
  }
 ],
 "metadata": {
  "kernelspec": {
   "display_name": "Python 3",
   "language": "python",
   "name": "python3"
  },
  "language_info": {
   "codemirror_mode": {
    "name": "ipython",
    "version": 3
   },
   "file_extension": ".py",
   "mimetype": "text/x-python",
   "name": "python",
   "nbconvert_exporter": "python",
   "pygments_lexer": "ipython3",
   "version": "3.8.5"
  }
 },
 "nbformat": 4,
 "nbformat_minor": 4
}
